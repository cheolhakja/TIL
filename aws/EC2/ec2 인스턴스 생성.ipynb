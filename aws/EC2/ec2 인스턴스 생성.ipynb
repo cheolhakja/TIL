{
 "cells": [
  {
   "cell_type": "code",
   "execution_count": null,
   "metadata": {},
   "outputs": [],
   "source": []
  },
  {
   "cell_type": "markdown",
   "metadata": {},
   "source": [
    "### 키 페어 생성\n",
    "\n",
    "* RSA: 공개키와 private key가 있음.. public key로 보낼 정보를 암호화... private key로 암호화된 정보를 해독함\n",
    "* .pem: ssh 프로토콜로 인스턴스에 접근 가능\n",
    "\n",
    "\n",
    "[참고자료](https://www.youtube.com/watch?v=xTg3XFNVo7o)\n"
   ]
  }
 ],
 "metadata": {
  "language_info": {
   "name": "python"
  }
 },
 "nbformat": 4,
 "nbformat_minor": 2
}
